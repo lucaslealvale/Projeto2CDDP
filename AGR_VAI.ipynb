{
 "cells": [
  {
   "cell_type": "code",
   "execution_count": 1,
   "metadata": {
    "collapsed": true
   },
   "outputs": [],
   "source": [
    "import pandas as pd\n",
    "import os"
   ]
  },
  {
   "cell_type": "code",
   "execution_count": 2,
   "metadata": {
    "collapsed": true
   },
   "outputs": [],
   "source": [
    "df=pd.read_excel('spamhamV2.xlsx', sep=',')"
   ]
  },
  {
   "cell_type": "code",
   "execution_count": 3,
   "metadata": {
    "collapsed": true
   },
   "outputs": [],
   "source": [
    "df['Email']=df.Email.str.replace(':','')\n",
    "df['Email']=df.Email.str.replace('\"','')\n",
    "df['Email']=df.Email.str.replace(\"'\",\"\")\n",
    "df['Email']=df.Email.str.replace('(','')\n",
    "df['Email']=df.Email.str.replace(')','')\n",
    "df['Email']=df.Email.str.replace('\\n','')\n",
    "df['Email']=df.Email.str.replace(',','')\n",
    "df['Email']=df.Email.str.replace('.','')\n",
    "df['Email']=df.Email.str.lower()\n"
   ]
  },
  {
   "cell_type": "code",
   "execution_count": 5,
   "metadata": {
    "collapsed": false
   },
   "outputs": [],
   "source": [
    "df['Email']=df['Email'].str.split(pat=None,n=-1,expand=False)\n"
   ]
  },
  {
   "cell_type": "code",
   "execution_count": 6,
   "metadata": {
    "collapsed": true
   },
   "outputs": [],
   "source": [
    "dfTreinamento=df.sample(n=None, frac=0.75, replace=False, weights=None, random_state=None, axis=None)\n",
    "dfTeste=df.sample(n=None, frac=0.25, replace=False, weights=None, random_state=None, axis=None)"
   ]
  },
  {
   "cell_type": "code",
   "execution_count": 7,
   "metadata": {
    "collapsed": true
   },
   "outputs": [],
   "source": [
    "dfTreinamento.to_csv('var_Treinamento.csv')\n",
    "dfTeste.to_csv('var_Teste.csv')"
   ]
  },
  {
   "cell_type": "code",
   "execution_count": null,
   "metadata": {
    "collapsed": true
   },
   "outputs": [],
   "source": []
  }
 ],
 "metadata": {
  "kernelspec": {
   "display_name": "Python 3",
   "language": "python",
   "name": "python3"
  },
  "language_info": {
   "codemirror_mode": {
    "name": "ipython",
    "version": 3
   },
   "file_extension": ".py",
   "mimetype": "text/x-python",
   "name": "python",
   "nbconvert_exporter": "python",
   "pygments_lexer": "ipython3",
   "version": "3.6.0"
  }
 },
 "nbformat": 4,
 "nbformat_minor": 2
}
