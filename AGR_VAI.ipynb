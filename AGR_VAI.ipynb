{
 "cells": [
  {
   "cell_type": "code",
   "execution_count": 1,
   "metadata": {
    "collapsed": true
   },
   "outputs": [],
   "source": [
    "import pandas as pd\n",
    "import os"
   ]
  },
  {
   "cell_type": "code",
   "execution_count": 2,
   "metadata": {
    "collapsed": true
   },
   "outputs": [],
   "source": [
    "df=pd.read_excel('spamhamV2.xlsx', sep=',')"
   ]
  },
  {
   "cell_type": "code",
   "execution_count": 3,
   "metadata": {
    "collapsed": true
   },
   "outputs": [],
   "source": [
    "df['Email']=df.Email.str.replace(':','')\n",
    "df['Email']=df.Email.str.replace('\"','')\n",
    "df['Email']=df.Email.str.replace(\"'\",\"\")\n",
    "df['Email']=df.Email.str.replace('(','')\n",
    "df['Email']=df.Email.str.replace(')','')\n",
    "df['Email']=df.Email.str.replace('\\n','')\n",
    "df['Email']=df.Email.str.replace(',','')\n",
    "df['Email']=df.Email.str.replace('.','')\n",
    "df['Email']=df.Email.str.lower()\n"
   ]
  },
  {
   "cell_type": "code",
   "execution_count": 4,
   "metadata": {
    "collapsed": true
   },
   "outputs": [],
   "source": [
    "df['Email']=df['Email'].str.split(pat=None,n=-1,expand=False)\n"
   ]
  },
  {
   "cell_type": "code",
   "execution_count": 5,
   "metadata": {
    "collapsed": true
   },
   "outputs": [],
   "source": [
    "dfTreinamento=df.sample(n=None, frac=0.75, replace=False, weights=None, random_state=None, axis=None)\n",
    "dfTeste=df.sample(n=None, frac=0.25, replace=False, weights=None, random_state=None, axis=None)"
   ]
  },
  {
   "cell_type": "code",
   "execution_count": 6,
   "metadata": {
    "collapsed": true
   },
   "outputs": [],
   "source": [
    "dfTreinamento.to_csv('var_Treinamento.csv')\n",
    "dfTeste.to_csv('var_Teste.csv')"
   ]
  },
  {
   "cell_type": "code",
   "execution_count": 7,
   "metadata": {},
   "outputs": [
    {
     "data": {
      "text/plain": [
       "0.1323283082077052"
      ]
     },
     "execution_count": 7,
     "metadata": {},
     "output_type": "execute_result"
    }
   ],
   "source": [
    "#Calculando a probabilidade de ser Spam dentro do dataframe de Treinamento\n",
    "Spam=dfTreinamento[dfTreinamento.Class=='spam']\n",
    "Pspam=len(Spam)/len(dfTreinamento['Class'])\n",
    "Pspam"
   ]
  },
  {
   "cell_type": "code",
   "execution_count": 8,
   "metadata": {},
   "outputs": [
    {
     "data": {
      "text/plain": [
       "0.8676716917922949"
      ]
     },
     "execution_count": 8,
     "metadata": {},
     "output_type": "execute_result"
    }
   ],
   "source": [
    "#Calculando a probabilidade de ser Ham dentro do dataframe de Treinamento\n",
    "Ham=dfTreinamento[dfTreinamento.Class=='ham']\n",
    "Pham=1-Pspam\n",
    "Pham"
   ]
  },
  {
   "cell_type": "code",
   "execution_count": 9,
   "metadata": {},
   "outputs": [],
   "source": [
    "dfTotal=dfTreinamento['Email'].sum(axis=None, skipna=None, level=None, numeric_only=None)\n",
    "serie = pd.Series(dfTotal)\n",
    "palavras = serie.value_counts()\n",
    "#j=len(dfTotal)\n"
   ]
  },
  {
   "cell_type": "code",
   "execution_count": 10,
   "metadata": {},
   "outputs": [],
   "source": [
    "# dfTotal=dfTreinamento.sum(axis=None, skipna=None, level=None, numeric_only=None)\n",
    "# serie = pd.Series(dfTotal)\n",
    "# palavras = serie.value_counts()\n",
    "\n",
    "# # dfTotalClass=pd.Series(df['Class'])\n",
    "# # dfClassSeries=serie.value_counts()\n",
    "# # #j=len(dfTotal)\n",
    "# # dfClassSeries"
   ]
  },
  {
   "cell_type": "code",
   "execution_count": 11,
   "metadata": {},
   "outputs": [],
   "source": [
    "#Calculando a probabilidade de uma palavra acontecer se a mensagem na base treinamento é considerada SPAM\n",
    "dfTreiSpam=dfTreinamento[dfTreinamento.Class=='spam']\n",
    "dfTreiSpam=dfTreiSpam['Email'].sum(axis=None, skipna=None, level=None, numeric_only=None)\n",
    "SpamSeries=pd.Series(dfTreiSpam)\n",
    "\n",
    "PS=SpamSeries.value_counts()\n",
    "\n",
    "#j=len(Spam)+len(Ham)\n",
    "PalavrasSpam=(PS+1)/(len(SpamSeries)+len(palavras))\n",
    "#PalavrasSpam"
   ]
  },
  {
   "cell_type": "code",
   "execution_count": 12,
   "metadata": {},
   "outputs": [],
   "source": [
    "#Calculando a probabilidade de uma palavra acontecer se a mensagem na base treinamento é considerada Ham\n",
    "dfTreiHam=dfTreinamento[dfTreinamento.Class=='ham']\n",
    "dfTreiHam=dfTreiHam['Email'].sum(axis=None, skipna=None, level=None, numeric_only=None)\n",
    "HamSeries=pd.Series(dfTreiHam)\n",
    "\n",
    "PH=HamSeries.value_counts()\n",
    "\n",
    "PalavrasHam=(PH+1)/(len(HamSeries)+len(palavras))\n",
    "#PalavrasHam"
   ]
  },
  {
   "cell_type": "code",
   "execution_count": null,
   "metadata": {},
   "outputs": [],
   "source": []
  },
  {
   "cell_type": "code",
   "execution_count": 13,
   "metadata": {},
   "outputs": [],
   "source": [
    "# def Bayes (email):\n",
    "#     var_s=1\n",
    "#     var_h=1\n",
    "#     for i in email:\n",
    "#         if (i in PalavrasSpam) and (i in PalavrasHam):\n",
    "#             var_s=var_s*((PalavrasSpam[i]+1)/((palavras[i]/j)+j))\n",
    "#             var_h=var_h*((PalavrasHam[i]+1)/((palavras[i]/j)+j))\n",
    "#         elif i in PalavrasSpam:\n",
    "#             var_s=var_s*((PalavrasSpam[i]+1)/((palavras[i]/j)+j))\n",
    "#             var_h=var_h*(1/j)\n",
    "#         elif i in PalavrasHam:\n",
    "#             var_s=var_s*(1/j)\n",
    "#             var_h=var_h*((PalavrasHam[i]+1)/((palavras[i]/j)+j))\n",
    "#         else:\n",
    "#             var_s=var_s*(1/j)\n",
    "#             var_h=var_h*(1/j)\n",
    "#     if var_s>=var_h:\n",
    "#         return 'spam'\n",
    "#     else:\n",
    "#         return 'ham'\n"
   ]
  },
  {
   "cell_type": "code",
   "execution_count": 14,
   "metadata": {
    "collapsed": true
   },
   "outputs": [],
   "source": [
    "def Bayes(email):\n",
    "    \n",
    "    var_s=1\n",
    "    var_h=1\n",
    "    \n",
    "    for i in email:\n",
    "        if i in (PalavrasHam):\n",
    "            var_h*=PalavrasHam[i]\n",
    "        else:\n",
    "            var_h*=1/(len(palavras))\n",
    "    var_h=var_h*(len(dfTreiHam)/len(df))\n",
    "    \n",
    "    for i in email:\n",
    "        if i in PalavrasSpam:\n",
    "            var_s*=PalavrasSpam[i]\n",
    "        else:\n",
    "            var_s*=1/(len(palavras))\n",
    "    var_s=var_s*(len(df)-len(dfTreiHam))/len(df)\n",
    "    \n",
    "    if (var_h>=var_s):\n",
    "        return 'ham'\n",
    "    else:\n",
    "        return 'spam'"
   ]
  },
  {
   "cell_type": "code",
   "execution_count": 16,
   "metadata": {},
   "outputs": [
    {
     "data": {
      "text/plain": [
       "count     1393\n",
       "unique       1\n",
       "top        ham\n",
       "freq      1393\n",
       "Name: Resultados, dtype: object"
      ]
     },
     "execution_count": 16,
     "metadata": {},
     "output_type": "execute_result"
    }
   ],
   "source": [
    "for i in dfTeste['Email']:\n",
    "    dfTeste['Resultados']=Bayes(i)\n",
    "dfTeste['Resultados'].describe()"
   ]
  },
  {
   "cell_type": "code",
   "execution_count": null,
   "metadata": {
    "collapsed": true
   },
   "outputs": [],
   "source": []
  },
  {
   "cell_type": "code",
   "execution_count": null,
   "metadata": {
    "collapsed": true
   },
   "outputs": [],
   "source": []
  }
 ],
 "metadata": {
  "kernelspec": {
   "display_name": "Python 3",
   "language": "python",
   "name": "python3"
  },
  "language_info": {
   "codemirror_mode": {
    "name": "ipython",
    "version": 3
   },
   "file_extension": ".py",
   "mimetype": "text/x-python",
   "name": "python",
   "nbconvert_exporter": "python",
   "pygments_lexer": "ipython3",
   "version": "3.6.1"
  }
 },
 "nbformat": 4,
 "nbformat_minor": 2
}
