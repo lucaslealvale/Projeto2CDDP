{
 "cells": [
  {
   "cell_type": "markdown",
   "metadata": {},
   "source": [
    "___\n",
    "# Ciência dos Dados - PROJETO 2"
   ]
  },
  {
   "cell_type": "markdown",
   "metadata": {},
   "source": [
    "___\n",
    "## Nome 1 Lucas Leal Vale\n",
    "\n",
    "## Nome 2 Rafael Almada\n"
   ]
  },
  {
   "cell_type": "markdown",
   "metadata": {},
   "source": [
    "___\n",
    "\n",
    "## 1. Problema\n",
    "\n",
    "O Classificador Naive-Bayes, o qual se baseia no uso do teorema de Bayes, é largamente utilizado em filtros anti-spam de e-mails. O classificador permite calcular qual a probabilidade de uma mensagem ser SPAM considerando as palavras em seu conteúdo e, de forma complementar, permite calcular a probabilidade de uma mensagem ser HAM dada as palavras descritas na mensagem.\n",
    "\n",
    "Para realizar o MVP (minimum viable product) do projeto, você precisa programar uma versão do classificador que \"aprende\" o que é uma mensagem SPAM considerando uma base de treinamento e comparar o desempenho dos resultados com uma base de testes. \n"
   ]
  },
  {
   "cell_type": "markdown",
   "metadata": {},
   "source": [
    "___\n",
    "## 2. Separação da base de dados em Treinamento e Teste\n",
    "\n",
    "A base de dados deve ser separada em duas partes, aleatoriamente, considerando: \n",
    "    \n",
    "    75% dos dados para a parte Treinamento; e\n",
    "    25% dos dados para a parte Teste."
   ]
  },
  {
   "cell_type": "code",
   "execution_count": null,
   "metadata": {
    "collapsed": true
   },
   "outputs": [],
   "source": [
    "import pandas as pd\n",
    "import os"
   ]
  },
  {
   "cell_type": "code",
   "execution_count": null,
   "metadata": {
    "collapsed": false
   },
   "outputs": [],
   "source": [
    "print('Esperamos trabalhar no diretório')\n",
    "print(os.getcwd())"
   ]
  },
  {
   "cell_type": "code",
   "execution_count": null,
   "metadata": {
    "collapsed": false
   },
   "outputs": [],
   "source": [
    "#Se usar o arquivo descompactado\n",
    "df=pd.read_excel('spamhamV2.xlsx', sep=',')"
   ]
  },
  {
   "cell_type": "code",
   "execution_count": null,
   "metadata": {
    "collapsed": false
   },
   "outputs": [],
   "source": [
    "#Tirando uma ideia de como esta o status do nosso Dataframe\n",
    "df.describe()"
   ]
  },
  {
   "cell_type": "code",
   "execution_count": null,
   "metadata": {
    "collapsed": true
   },
   "outputs": [],
   "source": [
    "#Filtrando a nossa base de dados, substituindo e tirando caracteres inuteis para a analise\n",
    "df['Email']=df.Email.str.replace(':','')\n",
    "df['Email']=df.Email.str.replace('\"','')\n",
    "df['Email']=df.Email.str.replace(\"'\",\"\")\n",
    "df['Email']=df.Email.str.replace('(','')\n",
    "df['Email']=df.Email.str.replace(')','')\n",
    "df['Email']=df.Email.str.replace('\\n','')\n",
    "df['Email']=df.Email.str.replace(',','')\n",
    "df['Email']=df.Email.str.replace('.','')\n",
    "df['Email']=df.Email.str.lower()\n"
   ]
  },
  {
   "cell_type": "code",
   "execution_count": null,
   "metadata": {
    "collapsed": true
   },
   "outputs": [],
   "source": [
    "# Separando cada palavra entre cada email\n",
    "df['Email']=df['Email'].str.split(pat=None,n=-1,expand=False)\n"
   ]
  },
  {
   "cell_type": "code",
   "execution_count": null,
   "metadata": {
    "collapsed": true
   },
   "outputs": [],
   "source": [
    "# Dividindo o main Dataframe em dois, um de treinamento, que corresponde a 75% do main dataframe, e um de teste que corresponde a 25%\n",
    "dfTreinamento=df.iloc[0:4181,:]\n",
    "dfTeste=df.iloc[4181:5576,:]"
   ]
  },
  {
   "cell_type": "code",
   "execution_count": null,
   "metadata": {
    "collapsed": true
   },
   "outputs": [],
   "source": [
    "# Salvando os dois datraframes que acabamos de criar\n",
    "dfTreinamento.to_csv('var_Treinamento.csv')\n",
    "dfTeste.to_csv('var_Teste.csv')"
   ]
  },
  {
   "cell_type": "code",
   "execution_count": null,
   "metadata": {
    "collapsed": true
   },
   "outputs": [],
   "source": []
  },
  {
   "cell_type": "markdown",
   "metadata": {},
   "source": [
    "___\n",
    "## 3. Classificador Naive-Bayes"
   ]
  },
  {
   "cell_type": "code",
   "execution_count": null,
   "metadata": {
    "collapsed": true
   },
   "outputs": [],
   "source": [
    "# def Bayes(email):\n",
    "#     pspam=1\n",
    "#     pham=1\n",
    "#     corte=email.split()\n",
    "#     for i in corte:\n",
    "        "
   ]
  },
  {
   "cell_type": "code",
   "execution_count": null,
   "metadata": {
    "collapsed": false
   },
   "outputs": [],
   "source": [
    "Spam=dfTreinamento[dfTreinamento.Class=='spam']\n",
    "Pspam=len(Spam)/len(dfTreinamento['Class'])\n",
    "Pspam"
   ]
  },
  {
   "cell_type": "code",
   "execution_count": null,
   "metadata": {
    "collapsed": false
   },
   "outputs": [],
   "source": [
    "Pham=1-Pspam\n",
    "Pham"
   ]
  },
  {
   "cell_type": "code",
   "execution_count": null,
   "metadata": {
    "collapsed": false
   },
   "outputs": [],
   "source": [
    "print(Pspam+Pham)"
   ]
  },
  {
   "cell_type": "code",
   "execution_count": null,
   "metadata": {
    "collapsed": true
   },
   "outputs": [],
   "source": [
    "# Calculando probabilidade total\n",
    "dfTotal=dfTreinamento['Email'].sum(axis=None, skipna=None, level=None, numeric_only=None)\n",
    "NET=len(dfTreinamento) #Numero de emails totais\n",
    "\n",
    "serie = pd.Series(dfTotal)\n",
    "serie_vc = serie.value_counts()\n",
    "#Pt= probabilidade total de cada palavra no df\n",
    "Pt=(serie_vc+1)/(len(serie) + len(serie_vc))\n"
   ]
  },
  {
   "cell_type": "code",
   "execution_count": null,
   "metadata": {
    "collapsed": false
   },
   "outputs": [],
   "source": [
    "serie1 = pd.Series(dfTreinamento['Class'])\n",
    "serie_vc1 = serie1.value_counts()\n",
    "#Pf= probabilidade de relevancia total no df\n",
    "Pf=(serie_vc1+1)/(len(serie1) + len(serie_vc1))\n",
    "print(Pf)"
   ]
  },
  {
   "cell_type": "code",
   "execution_count": null,
   "metadata": {
    "collapsed": true
   },
   "outputs": [],
   "source": [
    "#FILTRANDO DF HAM\n",
    "dfTreiHam=dfTreinamento[dfTreinamento.Class=='ham']#.Treinamento\n",
    "\n",
    "dfTreiHam=dfTreiHam['Email'].sum(axis=None, skipna=None, level=None, numeric_only=None)\n",
    "serie11 = pd.Series(dfTreiHam)\n",
    "serie_vc11 = serie11.value_counts()\n",
    "#Pr= probabilidade  de cada palavra estar em um email HAM no df\n",
    "Pr=(serie_vc11+1)/(len(serie11) + len(serie_vc))\n"
   ]
  },
  {
   "cell_type": "code",
   "execution_count": null,
   "metadata": {
    "collapsed": false
   },
   "outputs": [],
   "source": [
    "#FILTRANDO DF SPAM\n",
    "dfTreiSpam=dfTreinamento[dfTreinamento.Class=='spam']#.Treinamento\n",
    "\n",
    "dfTreiSpam=dfTreiSpam['Email'].sum(axis=None, skipna=None, level=None, numeric_only=None)\n",
    "serie13 = pd.Series(dfTreiSpam)\n",
    "serie_vc13 = serie13.value_counts()\n",
    "#Pa= probabilidade  de cada palavra estar em um email spam no df\n",
    "Pa=(serie_vc13+1)/(len(serie13) + len(serie_vc))"
   ]
  },
  {
   "cell_type": "code",
   "execution_count": null,
   "metadata": {
    "collapsed": false
   },
   "outputs": [],
   "source": [
    "def Bayes(email):\n",
    "    palavras=email.split()\n",
    "    var_spam=1\n",
    "    var_ham=1\n",
    "    for i in palavras:\n",
    "        if i in dfTreinamento:\n",
    "            var_ham=var_ham*Pr[i]\n",
    "            var_spam=var_spam*Pa[i]\n",
    "        else:\n",
    "            var_ham=var_ham*(1/len(dfTreiHam))\n",
    "            var_spam=var_spam*(1/len(dfTreiSpam))\n",
    "    ProbH=var_ham*Pham\n",
    "    ProbS=var_spam*Pspam\n",
    "    if ProbH>=ProbS:\n",
    "        return 'Ham'\n",
    "    else:\n",
    "        return 'Spam'"
   ]
  },
  {
   "cell_type": "markdown",
   "metadata": {},
   "source": [
    "___\n",
    "## 4. Curva ROC"
   ]
  },
  {
   "cell_type": "code",
   "execution_count": null,
   "metadata": {
    "collapsed": false
   },
   "outputs": [],
   "source": []
  },
  {
   "cell_type": "code",
   "execution_count": null,
   "metadata": {
    "collapsed": true
   },
   "outputs": [],
   "source": []
  },
  {
   "cell_type": "code",
   "execution_count": null,
   "metadata": {
    "collapsed": true
   },
   "outputs": [],
   "source": []
  },
  {
   "cell_type": "markdown",
   "metadata": {},
   "source": [
    "___\n",
    "## 5. Qualidade do Classificador alterando a base de treinamento"
   ]
  },
  {
   "cell_type": "code",
   "execution_count": null,
   "metadata": {
    "collapsed": true
   },
   "outputs": [],
   "source": []
  },
  {
   "cell_type": "code",
   "execution_count": null,
   "metadata": {
    "collapsed": true
   },
   "outputs": [],
   "source": []
  },
  {
   "cell_type": "code",
   "execution_count": null,
   "metadata": {
    "collapsed": true
   },
   "outputs": [],
   "source": []
  },
  {
   "cell_type": "code",
   "execution_count": null,
   "metadata": {
    "collapsed": true
   },
   "outputs": [],
   "source": []
  }
 ],
 "metadata": {
  "anaconda-cloud": {},
  "kernelspec": {
   "display_name": "Python 3",
   "language": "python",
   "name": "python3"
  },
  "language_info": {
   "codemirror_mode": {
    "name": "ipython",
    "version": 3
   },
   "file_extension": ".py",
   "mimetype": "text/x-python",
   "name": "python",
   "nbconvert_exporter": "python",
   "pygments_lexer": "ipython3",
   "version": "3.6.0"
  }
 },
 "nbformat": 4,
 "nbformat_minor": 1
}
