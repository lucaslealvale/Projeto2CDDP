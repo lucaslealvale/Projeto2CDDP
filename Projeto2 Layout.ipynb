{
 "cells": [
  {
   "cell_type": "markdown",
   "metadata": {},
   "source": [
    "___\n",
    "# Ciência dos Dados - PROJETO 2"
   ]
  },
  {
   "cell_type": "markdown",
   "metadata": {},
   "source": [
    "___\n",
    "## Nome 1 Lucas Leal Vale\n",
    "\n",
    "## Nome 2 Rafael Almada\n"
   ]
  },
  {
   "cell_type": "markdown",
   "metadata": {},
   "source": [
    "___\n",
    "\n",
    "## 1. Problema\n",
    "\n",
    "O Classificador Naive-Bayes, o qual se baseia no uso do teorema de Bayes, é largamente utilizado em filtros anti-spam de e-mails. O classificador permite calcular qual a probabilidade de uma mensagem ser SPAM considerando as palavras em seu conteúdo e, de forma complementar, permite calcular a probabilidade de uma mensagem ser HAM dada as palavras descritas na mensagem.\n",
    "\n",
    "Para realizar o MVP (minimum viable product) do projeto, você precisa programar uma versão do classificador que \"aprende\" o que é uma mensagem SPAM considerando uma base de treinamento e comparar o desempenho dos resultados com uma base de testes. \n"
   ]
  },
  {
   "cell_type": "markdown",
   "metadata": {},
   "source": [
    "___\n",
    "## 2. Separação da base de dados em Treinamento e Teste\n",
    "\n",
    "A base de dados deve ser separada em duas partes, aleatoriamente, considerando: \n",
    "    \n",
    "    75% dos dados para a parte Treinamento; e\n",
    "    25% dos dados para a parte Teste."
   ]
  },
  {
   "cell_type": "code",
   "execution_count": 1,
   "metadata": {
    "collapsed": true
   },
   "outputs": [],
   "source": [
    "import pandas as pd\n",
    "import os"
   ]
  },
  {
   "cell_type": "code",
   "execution_count": 2,
   "metadata": {
    "collapsed": false
   },
   "outputs": [
    {
     "name": "stdout",
     "output_type": "stream",
     "text": [
      "Esperamos trabalhar no diretório\n",
      "C:\\Users\\rafaa\\Documents\\GitHub\\Projeto2CDDP\n"
     ]
    }
   ],
   "source": [
    "print('Esperamos trabalhar no diretório')\n",
    "print(os.getcwd())"
   ]
  },
  {
   "cell_type": "code",
   "execution_count": 3,
   "metadata": {
    "collapsed": true
   },
   "outputs": [],
   "source": [
    "#Se usar o arquivo descompactado\n",
    "df=pd.read_excel('spamhamV2.xlsx', sep=',')"
   ]
  },
  {
   "cell_type": "code",
   "execution_count": 4,
   "metadata": {
    "collapsed": false
   },
   "outputs": [
    {
     "data": {
      "text/html": [
       "<div>\n",
       "<table border=\"1\" class=\"dataframe\">\n",
       "  <thead>\n",
       "    <tr style=\"text-align: right;\">\n",
       "      <th></th>\n",
       "      <th>Email</th>\n",
       "      <th>Class</th>\n",
       "    </tr>\n",
       "  </thead>\n",
       "  <tbody>\n",
       "    <tr>\n",
       "      <th>count</th>\n",
       "      <td>5572</td>\n",
       "      <td>5572</td>\n",
       "    </tr>\n",
       "    <tr>\n",
       "      <th>unique</th>\n",
       "      <td>5169</td>\n",
       "      <td>2</td>\n",
       "    </tr>\n",
       "    <tr>\n",
       "      <th>top</th>\n",
       "      <td>Sorry, I'll call later</td>\n",
       "      <td>ham</td>\n",
       "    </tr>\n",
       "    <tr>\n",
       "      <th>freq</th>\n",
       "      <td>30</td>\n",
       "      <td>4825</td>\n",
       "    </tr>\n",
       "  </tbody>\n",
       "</table>\n",
       "</div>"
      ],
      "text/plain": [
       "                         Email Class\n",
       "count                     5572  5572\n",
       "unique                    5169     2\n",
       "top     Sorry, I'll call later   ham\n",
       "freq                        30  4825"
      ]
     },
     "execution_count": 4,
     "metadata": {},
     "output_type": "execute_result"
    }
   ],
   "source": [
    "#Tirando uma ideia de como esta o status do nosso Dataframe\n",
    "df.describe()"
   ]
  },
  {
   "cell_type": "code",
   "execution_count": 5,
   "metadata": {
    "collapsed": true
   },
   "outputs": [],
   "source": [
    "#Filtrando a nossa base de dados, substituindo e tirando caracteres inuteis para a analise\n",
    "df['Email']=df.Email.str.replace(':','')\n",
    "df['Email']=df.Email.str.replace('\"','')\n",
    "df['Email']=df.Email.str.replace(\"'\",\"\")\n",
    "df['Email']=df.Email.str.replace('(','')\n",
    "df['Email']=df.Email.str.replace(')','')\n",
    "df['Email']=df.Email.str.replace('\\n','')\n",
    "df['Email']=df.Email.str.replace(',','')\n",
    "df['Email']=df.Email.str.replace('.','')\n",
    "df['Email']=df.Email.str.lower()\n"
   ]
  },
  {
   "cell_type": "code",
   "execution_count": 6,
   "metadata": {
    "collapsed": true
   },
   "outputs": [],
   "source": [
    "# Separando cada palavra entre cada email\n",
    "df['Email']=df['Email'].str.split(pat=None,n=-1,expand=False)\n"
   ]
  },
  {
   "cell_type": "code",
   "execution_count": 7,
   "metadata": {
    "collapsed": true
   },
   "outputs": [],
   "source": [
    "# Dividindo o main Dataframe em dois, um de treinamento, que corresponde a 75% do main dataframe, e um de teste que corresponde a 25%\n",
    "# dfTreinamento=df.iloc[0:4181,:]\n",
    "# dfTeste=df.iloc[4181:5576,:]\n",
    "dfTreinamento=df.sample(n=None, frac=0.75, replace=False, weights=None, random_state=None, axis=None)\n",
    "dfTeste=df.sample(n=None, frac=0.25, replace=False, weights=None, random_state=None, axis=None)"
   ]
  },
  {
   "cell_type": "code",
   "execution_count": 8,
   "metadata": {
    "collapsed": true
   },
   "outputs": [],
   "source": [
    "# Salvando os dois datraframes que acabamos de criar\n",
    "dfTreinamento.to_csv('var_Treinamento.csv')\n",
    "dfTeste.to_csv('var_Teste.csv')"
   ]
  },
  {
   "cell_type": "code",
   "execution_count": null,
   "metadata": {
    "collapsed": true
   },
   "outputs": [],
   "source": []
  },
  {
   "cell_type": "markdown",
   "metadata": {},
   "source": [
    "___\n",
    "## 3. Classificador Naive-Bayes"
   ]
  },
  {
   "cell_type": "code",
   "execution_count": null,
   "metadata": {
    "collapsed": true
   },
   "outputs": [],
   "source": []
  },
  {
   "cell_type": "code",
   "execution_count": 9,
   "metadata": {
    "collapsed": false
   },
   "outputs": [
    {
     "data": {
      "text/plain": [
       "0.13543910026322087"
      ]
     },
     "execution_count": 9,
     "metadata": {},
     "output_type": "execute_result"
    }
   ],
   "source": [
    "Spam=dfTreinamento[dfTreinamento.Class=='spam']\n",
    "Pspam=len(Spam)/len(dfTreinamento['Class'])\n",
    "Pspam"
   ]
  },
  {
   "cell_type": "code",
   "execution_count": 10,
   "metadata": {
    "collapsed": false
   },
   "outputs": [
    {
     "data": {
      "text/plain": [
       "0.8645608997367791"
      ]
     },
     "execution_count": 10,
     "metadata": {},
     "output_type": "execute_result"
    }
   ],
   "source": [
    "Pham=1-Pspam\n",
    "Pham"
   ]
  },
  {
   "cell_type": "code",
   "execution_count": 11,
   "metadata": {
    "collapsed": false
   },
   "outputs": [
    {
     "name": "stdout",
     "output_type": "stream",
     "text": [
      "1.0\n"
     ]
    }
   ],
   "source": [
    "print(Pspam+Pham)"
   ]
  },
  {
   "cell_type": "code",
   "execution_count": 13,
   "metadata": {
    "collapsed": false
   },
   "outputs": [],
   "source": [
    "# Calculando probabilidade total\n",
    "dfTotal=dfTreinamento['Email'].sum(axis=None, skipna=None, level=None, numeric_only=None)\n",
    "NET=len(dfTreinamento) #Numero de emails totais\n",
    "\n",
    "serie = pd.Series(dfTotal)\n",
    "palavras = serie.value_counts()\n",
    "#Pt= probabilidade total de cada palavra no df\n",
    "#Pt=(serie_vc+1)/(len(serie) + len(serie_vc))\n"
   ]
  },
  {
   "cell_type": "code",
   "execution_count": 14,
   "metadata": {
    "collapsed": false
   },
   "outputs": [
    {
     "name": "stdout",
     "output_type": "stream",
     "text": [
      "ham     0.864387\n",
      "spam    0.135613\n",
      "Name: Class, dtype: float64\n"
     ]
    }
   ],
   "source": [
    "serie1 = pd.Series(dfTreinamento['Class'])\n",
    "serie_vc1 = serie1.value_counts()\n",
    "#Pf= probabilidade de relevancia total no df\n",
    "Pf=(serie_vc1+1)/(len(serie1) + len(serie_vc1))\n",
    "print(Pf)"
   ]
  },
  {
   "cell_type": "code",
   "execution_count": 16,
   "metadata": {
    "collapsed": false,
    "scrolled": true
   },
   "outputs": [
    {
     "data": {
      "text/plain": [
       "i              1573\n",
       "you            1328\n",
       "to             1137\n",
       "the             834\n",
       "a               769\n",
       "u               710\n",
       "and             625\n",
       "in              591\n",
       "me              555\n",
       "my              541\n",
       "is              532\n",
       "it              421\n",
       "of              387\n",
       "for             377\n",
       "that            346\n",
       "im              331\n",
       "not             308\n",
       "are             306\n",
       "your            304\n",
       "but             300\n",
       "have            297\n",
       "so              297\n",
       "can             278\n",
       "do              278\n",
       "on              275\n",
       "at              271\n",
       "if              257\n",
       "will            249\n",
       "be              233\n",
       "its             228\n",
       "               ... \n",
       "wasn‰û÷t          1\n",
       "excused           1\n",
       "3optical          1\n",
       "kanowhr           1\n",
       "=twelve           1\n",
       "adventuring       1\n",
       "standing|         1\n",
       "stated            1\n",
       "pain?hope         1\n",
       "suitemates        1\n",
       "token             1\n",
       "houseful          1\n",
       "virgin            1\n",
       "lotz              1\n",
       "half8th           1\n",
       "\\not              1\n",
       "throwing          1\n",
       "splendid          1\n",
       "worldvery         1\n",
       "pole              1\n",
       "talents!          1\n",
       "flea              1\n",
       "gn                1\n",
       "lanre             1\n",
       "?!                1\n",
       "kkyesterday       1\n",
       "blessing          1\n",
       "footie            1\n",
       "dodgey            1\n",
       "bollox            1\n",
       "dtype: int64"
      ]
     },
     "execution_count": 16,
     "metadata": {},
     "output_type": "execute_result"
    }
   ],
   "source": [
    "#FILTRANDO DF ham\n",
    "dfTreiHam=dfTreinamento[dfTreinamento.Class=='ham']#.Treinamento\n",
    "\n",
    "dfTreiHam=dfTreiHam['Email'].sum(axis=None, skipna=None, level=None, numeric_only=None)\n",
    "serie15= pd.Series(dfTreiHam)\n",
    "PalavrasXHam= serie15.value_counts()\n",
    "#Pa= probabilidade  de cada palavra estar em um email spam no df\n",
    "#Ph=(PalavrasXHam+1)/(len(serie15) + len(serie_vc))\n",
    "PalavrasXHam"
   ]
  },
  {
   "cell_type": "code",
   "execution_count": 17,
   "metadata": {
    "collapsed": false
   },
   "outputs": [],
   "source": [
    "#FILTRANDO DF HAM\n",
    "dfTreiHam=dfTreinamento[dfTreinamento.Class=='ham']#.Treinamento\n",
    "\n",
    "dfTreiHam=dfTreiHam['Email'].sum(axis=None, skipna=None, level=None, numeric_only=None)\n",
    "valores=pd.DataFrame()\n",
    "valores['Email']=dfTreinamento['Email']\n",
    "valores['Class']=dfTreinamento['Class']\n",
    "\n",
    "#Valores['Palavras'] = \n",
    "#Pr= probabilidade  de cada palavra estar em um email HAM no df\n",
    "#Pr=(serie_vc11+1)/(len(serie11) + len(serie_vc))\n",
    "#dicio['ham']\n",
    "dicio=valores.to_dict()\n",
    "freqHam=dfTreinamento.Class.value_counts()[0]\n",
    "freqSpam=dfTreinamento.Class.value_counts()[1]\n",
    "freqTotal=dfTreinamento.Class.value_counts()[0]+dfTreinamento.Class.value_counts()[1]\n",
    "PMS=freqSpam/freqTotal #Probabilidade Msg intersecção Spam\n",
    "PMH=freqHam/freqTotal #Probabilidade Msg intersecção Ham\n"
   ]
  },
  {
   "cell_type": "code",
   "execution_count": 20,
   "metadata": {
    "collapsed": false,
    "scrolled": true
   },
   "outputs": [],
   "source": [
    "#FILTRANDO DF SPAM\n",
    "dfTreiSpam=dfTreinamento[dfTreinamento.Class=='spam']#.Treinamento\n",
    "\n",
    "dfTreiSpam=dfTreiSpam['Email'].sum(axis=None, skipna=None, level=None, numeric_only=None)\n",
    "serie13 = pd.Series(dfTreiSpam)\n",
    "PalavrasXSpam = serie13.value_counts()\n",
    "#Pa= probabilidade  de cada palavra estar em um email spam no df\n",
    "#Pa=(PalavrasXSpam+1)/(len(serie13) + len(serie_vc))\n"
   ]
  },
  {
   "cell_type": "code",
   "execution_count": 21,
   "metadata": {
    "collapsed": true
   },
   "outputs": [],
   "source": [
    "dfTreinamento['Class'].value_counts()\n",
    "Total=3610+569"
   ]
  },
  {
   "cell_type": "code",
   "execution_count": 22,
   "metadata": {
    "collapsed": true
   },
   "outputs": [],
   "source": [
    "#dfTeste['Email']"
   ]
  },
  {
   "cell_type": "code",
   "execution_count": 23,
   "metadata": {
    "collapsed": true
   },
   "outputs": [],
   "source": [
    "def Bayes(email):\n",
    "    var_s=1\n",
    "    var_h=1\n",
    "    for i in email:\n",
    "        if i in dfTotal:\n",
    "            var_s=var_s*((PalavrasXSpam[i]+1)/(PMS+len(dfTotal)))\n",
    "            var_h=var_h*((PalavrasXHam[i]+1)(PMH+len(dfTotal)))\n",
    "        else:\n",
    "            var_s=var_s*(1/len(dfTotal))\n",
    "            var_h=var_h*(1/len(dfTotal))\n",
    "    if (var_s>var_h):\n",
    "        return \"spam\"\n",
    "    elif (var_s==var_h):\n",
    "        if (PMH>PMS):\n",
    "            return \"ham\"\n",
    "        else:\n",
    "            return \"spam\"\n",
    "    else:\n",
    "        return \"ham\""
   ]
  },
  {
   "cell_type": "code",
   "execution_count": 24,
   "metadata": {
    "collapsed": true
   },
   "outputs": [],
   "source": [
    "def Testando(dfTeste):\n",
    "    for u in dfTeste:\n",
    "        dfTeste.Class[u]=Bayes(u)\n",
    "    return(dfTeste)"
   ]
  },
  {
   "cell_type": "code",
   "execution_count": null,
   "metadata": {
    "collapsed": true
   },
   "outputs": [],
   "source": []
  },
  {
   "cell_type": "markdown",
   "metadata": {},
   "source": [
    "___\n",
    "## 4. Curva ROC"
   ]
  },
  {
   "cell_type": "code",
   "execution_count": null,
   "metadata": {
    "collapsed": true
   },
   "outputs": [],
   "source": []
  },
  {
   "cell_type": "code",
   "execution_count": null,
   "metadata": {
    "collapsed": true
   },
   "outputs": [],
   "source": []
  },
  {
   "cell_type": "code",
   "execution_count": null,
   "metadata": {
    "collapsed": true
   },
   "outputs": [],
   "source": []
  },
  {
   "cell_type": "code",
   "execution_count": null,
   "metadata": {
    "collapsed": true
   },
   "outputs": [],
   "source": []
  },
  {
   "cell_type": "markdown",
   "metadata": {},
   "source": [
    "___\n",
    "## 5. Qualidade do Classificador alterando a base de treinamento"
   ]
  },
  {
   "cell_type": "code",
   "execution_count": null,
   "metadata": {
    "collapsed": true
   },
   "outputs": [],
   "source": []
  },
  {
   "cell_type": "code",
   "execution_count": null,
   "metadata": {
    "collapsed": true
   },
   "outputs": [],
   "source": []
  },
  {
   "cell_type": "code",
   "execution_count": null,
   "metadata": {
    "collapsed": true
   },
   "outputs": [],
   "source": []
  },
  {
   "cell_type": "code",
   "execution_count": null,
   "metadata": {
    "collapsed": true
   },
   "outputs": [],
   "source": []
  }
 ],
 "metadata": {
  "anaconda-cloud": {},
  "kernelspec": {
   "display_name": "Python 3",
   "language": "python",
   "name": "python3"
  },
  "language_info": {
   "codemirror_mode": {
    "name": "ipython",
    "version": 3
   },
   "file_extension": ".py",
   "mimetype": "text/x-python",
   "name": "python",
   "nbconvert_exporter": "python",
   "pygments_lexer": "ipython3",
   "version": "3.6.0"
  }
 },
 "nbformat": 4,
 "nbformat_minor": 1
}
