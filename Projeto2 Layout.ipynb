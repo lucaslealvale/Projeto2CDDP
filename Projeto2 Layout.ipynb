{
 "cells": [
  {
   "cell_type": "markdown",
   "metadata": {},
   "source": [
    "___\n",
    "# Ciência dos Dados - PROJETO 2"
   ]
  },
  {
   "cell_type": "markdown",
   "metadata": {},
   "source": [
    "___\n",
    "## Nome 1 Lucas Leal Vale\n",
    "\n",
    "## Nome 2 Rafael Almada\n"
   ]
  },
  {
   "cell_type": "markdown",
   "metadata": {},
   "source": [
    "___\n",
    "\n",
    "## 1. Problema\n",
    "\n",
    "O Classificador Naive-Bayes, o qual se baseia no uso do teorema de Bayes, é largamente utilizado em filtros anti-spam de e-mails. O classificador permite calcular qual a probabilidade de uma mensagem ser SPAM considerando as palavras em seu conteúdo e, de forma complementar, permite calcular a probabilidade de uma mensagem ser HAM dada as palavras descritas na mensagem.\n",
    "\n",
    "Para realizar o MVP (minimum viable product) do projeto, você precisa programar uma versão do classificador que \"aprende\" o que é uma mensagem SPAM considerando uma base de treinamento e comparar o desempenho dos resultados com uma base de testes. \n"
   ]
  },
  {
   "cell_type": "markdown",
   "metadata": {},
   "source": [
    "___\n",
    "## 2. Separação da base de dados em Treinamento e Teste\n",
    "\n",
    "A base de dados deve ser separada em duas partes, aleatoriamente, considerando: \n",
    "    \n",
    "    75% dos dados para a parte Treinamento; e\n",
    "    25% dos dados para a parte Teste."
   ]
  },
  {
   "cell_type": "code",
   "execution_count": 2,
   "metadata": {
    "collapsed": true
   },
   "outputs": [],
   "source": [
    "import pandas as pd\n",
    "import os"
   ]
  },
  {
   "cell_type": "code",
   "execution_count": 3,
   "metadata": {
    "collapsed": false
   },
   "outputs": [
    {
     "name": "stdout",
     "output_type": "stream",
     "text": [
      "Esperamos trabalhar no diretório\n",
      "C:\\Users\\rafaa\\Documents\\GitHub\\Projeto2CDDP\n"
     ]
    }
   ],
   "source": [
    "print('Esperamos trabalhar no diretório')\n",
    "print(os.getcwd())"
   ]
  },
  {
   "cell_type": "code",
   "execution_count": 4,
   "metadata": {
    "collapsed": true
   },
   "outputs": [],
   "source": [
    "#Se usar o arquivo descompactado\n",
    "df=pd.read_excel('spamhamV2.xlsx', sep=',')"
   ]
  },
  {
   "cell_type": "code",
   "execution_count": 5,
   "metadata": {
    "collapsed": false
   },
   "outputs": [
    {
     "data": {
      "text/html": [
       "<div>\n",
       "<table border=\"1\" class=\"dataframe\">\n",
       "  <thead>\n",
       "    <tr style=\"text-align: right;\">\n",
       "      <th></th>\n",
       "      <th>Email</th>\n",
       "      <th>Class</th>\n",
       "    </tr>\n",
       "  </thead>\n",
       "  <tbody>\n",
       "    <tr>\n",
       "      <th>count</th>\n",
       "      <td>5572</td>\n",
       "      <td>5572</td>\n",
       "    </tr>\n",
       "    <tr>\n",
       "      <th>unique</th>\n",
       "      <td>5169</td>\n",
       "      <td>2</td>\n",
       "    </tr>\n",
       "    <tr>\n",
       "      <th>top</th>\n",
       "      <td>Sorry, I'll call later</td>\n",
       "      <td>ham</td>\n",
       "    </tr>\n",
       "    <tr>\n",
       "      <th>freq</th>\n",
       "      <td>30</td>\n",
       "      <td>4825</td>\n",
       "    </tr>\n",
       "  </tbody>\n",
       "</table>\n",
       "</div>"
      ],
      "text/plain": [
       "                         Email Class\n",
       "count                     5572  5572\n",
       "unique                    5169     2\n",
       "top     Sorry, I'll call later   ham\n",
       "freq                        30  4825"
      ]
     },
     "execution_count": 5,
     "metadata": {},
     "output_type": "execute_result"
    }
   ],
   "source": [
    "#Tirando uma ideia de como esta o status do nosso Dataframe\n",
    "df.describe()"
   ]
  },
  {
   "cell_type": "code",
   "execution_count": 6,
   "metadata": {
    "collapsed": true
   },
   "outputs": [],
   "source": [
    "#Filtrando a nossa base de dados, substituindo e tirando caracteres inuteis para a analise\n",
    "df['Email']=df.Email.str.replace(':','')\n",
    "df['Email']=df.Email.str.replace('\"','')\n",
    "df['Email']=df.Email.str.replace(\"'\",\"\")\n",
    "df['Email']=df.Email.str.replace('(','')\n",
    "df['Email']=df.Email.str.replace(')','')\n",
    "df['Email']=df.Email.str.replace('\\n','')\n",
    "df['Email']=df.Email.str.replace(',','')\n",
    "df['Email']=df.Email.str.replace('.','')\n",
    "df['Email']=df.Email.str.lower()\n"
   ]
  },
  {
   "cell_type": "code",
   "execution_count": 7,
   "metadata": {
    "collapsed": true
   },
   "outputs": [],
   "source": [
    "# Separando cada palavra entre cada email\n",
    "df['Email']=df['Email'].str.split(pat=None,n=-1,expand=False)\n"
   ]
  },
  {
   "cell_type": "code",
   "execution_count": 8,
   "metadata": {
    "collapsed": true
   },
   "outputs": [],
   "source": [
    "# Dividindo o main Dataframe em dois, um de treinamento, que corresponde a 75% do main dataframe, e um de teste que corresponde a 25%\n",
    "# dfTreinamento=df.iloc[0:4181,:]\n",
    "# dfTeste=df.iloc[4181:5576,:]\n",
    "dfTreinamento=df.sample(n=None, frac=0.75, replace=False, weights=None, random_state=None, axis=None)\n",
    "dfTeste=df.sample(n=None, frac=0.25, replace=False, weights=None, random_state=None, axis=None)"
   ]
  },
  {
   "cell_type": "code",
   "execution_count": 9,
   "metadata": {
    "collapsed": true
   },
   "outputs": [],
   "source": [
    "# Salvando os dois datraframes que acabamos de criar\n",
    "dfTreinamento.to_csv('var_Treinamento.csv')\n",
    "dfTeste.to_csv('var_Teste.csv')"
   ]
  },
  {
   "cell_type": "code",
   "execution_count": null,
   "metadata": {
    "collapsed": true
   },
   "outputs": [],
   "source": []
  },
  {
   "cell_type": "markdown",
   "metadata": {},
   "source": [
    "___\n",
    "## 3. Classificador Naive-Bayes"
   ]
  },
  {
   "cell_type": "code",
   "execution_count": null,
   "metadata": {
    "collapsed": true
   },
   "outputs": [],
   "source": []
  },
  {
   "cell_type": "code",
   "execution_count": 10,
   "metadata": {
    "collapsed": false
   },
   "outputs": [
    {
     "data": {
      "text/plain": [
       "0.13280689160086145"
      ]
     },
     "execution_count": 10,
     "metadata": {},
     "output_type": "execute_result"
    }
   ],
   "source": [
    "Spam=dfTreinamento[dfTreinamento.Class=='spam']\n",
    "Pspam=len(Spam)/len(dfTreinamento['Class'])\n",
    "Pspam"
   ]
  },
  {
   "cell_type": "code",
   "execution_count": 11,
   "metadata": {
    "collapsed": false
   },
   "outputs": [
    {
     "data": {
      "text/plain": [
       "0.8671931083991385"
      ]
     },
     "execution_count": 11,
     "metadata": {},
     "output_type": "execute_result"
    }
   ],
   "source": [
    "Pham=1-Pspam\n",
    "Pham"
   ]
  },
  {
   "cell_type": "code",
   "execution_count": 12,
   "metadata": {
    "collapsed": false
   },
   "outputs": [
    {
     "name": "stdout",
     "output_type": "stream",
     "text": [
      "1.0\n"
     ]
    }
   ],
   "source": [
    "print(Pspam+Pham)"
   ]
  },
  {
   "cell_type": "code",
   "execution_count": 13,
   "metadata": {
    "collapsed": false
   },
   "outputs": [],
   "source": [
    "# Calculando probabilidade total\n",
    "dfTotal=dfTreinamento['Email'].sum(axis=None, skipna=None, level=None, numeric_only=None)\n",
    "NET=len(dfTreinamento) #Numero de emails totais\n",
    "\n",
    "serie = pd.Series(dfTotal)\n",
    "palavras = serie.value_counts()\n",
    "#Pt= probabilidade total de cada palavra no df\n",
    "#Pt=(serie_vc+1)/(len(serie) + len(serie_vc))\n"
   ]
  },
  {
   "cell_type": "code",
   "execution_count": 14,
   "metadata": {
    "collapsed": false
   },
   "outputs": [
    {
     "name": "stdout",
     "output_type": "stream",
     "text": [
      "ham     0.867017\n",
      "spam    0.132983\n",
      "Name: Class, dtype: float64\n"
     ]
    }
   ],
   "source": [
    "serie1 = pd.Series(dfTreinamento['Class'])\n",
    "serie_vc1 = serie1.value_counts()\n",
    "#Pf= probabilidade de relevancia total no df\n",
    "Pf=(serie_vc1+1)/(len(serie1) + len(serie_vc1))\n",
    "print(Pf)"
   ]
  },
  {
   "cell_type": "code",
   "execution_count": 15,
   "metadata": {
    "collapsed": false,
    "scrolled": true
   },
   "outputs": [
    {
     "data": {
      "text/plain": [
       "0              yup\n",
       "1             next\n",
       "2             stop\n",
       "3               ew\n",
       "4              are\n",
       "5              you\n",
       "6              one\n",
       "7               of\n",
       "8            them?\n",
       "9        meanwhile\n",
       "10              in\n",
       "11             the\n",
       "12            shit\n",
       "13           suite\n",
       "14          xavier\n",
       "15         decided\n",
       "16              to\n",
       "17            give\n",
       "18              us\n",
       "19       &lt;#&gt;\n",
       "20         seconds\n",
       "21              of\n",
       "22         warning\n",
       "23            that\n",
       "24        samantha\n",
       "25             was\n",
       "26          coming\n",
       "27            over\n",
       "28             and\n",
       "29              is\n",
       "           ...    \n",
       "50109         your\n",
       "50110         work\n",
       "50111           is\n",
       "50112         done\n",
       "50113        where\n",
       "50114            r\n",
       "50115            e\n",
       "50116      meeting\n",
       "50117         tmr?\n",
       "50118          can\n",
       "50119          you\n",
       "50120         open\n",
       "50121          the\n",
       "50122        door?\n",
       "50123        thats\n",
       "50124            y\n",
       "50125            i\n",
       "50126         said\n",
       "50127          its\n",
       "50128          bad\n",
       "50129          dat\n",
       "50130          all\n",
       "50131            e\n",
       "50132         gals\n",
       "50133         know\n",
       "50134            u\n",
       "50135          wat\n",
       "50136            u\n",
       "50137        doing\n",
       "50138         now?\n",
       "dtype: object"
      ]
     },
     "execution_count": 15,
     "metadata": {},
     "output_type": "execute_result"
    }
   ],
   "source": [
    "#FILTRANDO DF ham\n",
    "dfTreiHam=dfTreinamento[dfTreinamento.Class=='ham']#.Treinamento\n",
    "\n",
    "dfTreiHam=dfTreiHam['Email'].sum(axis=None, skipna=None, level=None, numeric_only=None)\n",
    "serie15= pd.Series(dfTreiHam)\n",
    "PalavrasXHam= serie15.value_counts()\n",
    "#Pa= probabilidade  de cada palavra estar em um email spam no df\n",
    "#Ph=(PalavrasXHam+1)/(len(serie15) + len(serie_vc))\n",
    "PalavrasXHam = PalavrasXHam/len(palavras)\n",
    "PalavrasXHam\n",
    "serie15"
   ]
  },
  {
   "cell_type": "code",
   "execution_count": 16,
   "metadata": {
    "collapsed": false
   },
   "outputs": [],
   "source": [
    "#FILTRANDO DF HAM\n",
    "dfTreiHam=dfTreinamento[dfTreinamento.Class=='ham']#.Treinamento\n",
    "\n",
    "dfTreiHam=dfTreiHam['Email'].sum(axis=None, skipna=None, level=None, numeric_only=None)\n",
    "valores=pd.DataFrame()\n",
    "valores['Email']=dfTreinamento['Email']\n",
    "valores['Class']=dfTreinamento['Class']\n",
    "\n",
    "#Valores['Palavras'] = \n",
    "#Pr= probabilidade  de cada palavra estar em um email HAM no df\n",
    "#Pr=(serie_vc11+1)/(len(serie11) + len(serie_vc))\n",
    "#dicio['ham']\n",
    "dicio=valores.to_dict()\n",
    "freqHam=dfTreinamento.Class.value_counts()[0]\n",
    "freqSpam=dfTreinamento.Class.value_counts()[1]\n",
    "freqTotal=dfTreinamento.Class.value_counts()[0]+dfTreinamento.Class.value_counts()[1]\n",
    "PMS=freqSpam/freqTotal #Probabilidade Msg intersecção Spam\n",
    "PMH=freqHam/freqTotal #Probabilidade Msg intersecção Ham\n"
   ]
  },
  {
   "cell_type": "code",
   "execution_count": 17,
   "metadata": {
    "collapsed": false,
    "scrolled": true
   },
   "outputs": [
    {
     "name": "stdout",
     "output_type": "stream",
     "text": [
      "to                      0.057102\n",
      "a                       0.030713\n",
      "call                    0.028606\n",
      "your                    0.022175\n",
      "you                     0.021621\n",
      "for                     0.017740\n",
      "the                     0.017297\n",
      "free                    0.015745\n",
      "or                      0.014858\n",
      "2                       0.014303\n",
      "is                      0.013305\n",
      "txt                     0.012529\n",
      "on                      0.012529\n",
      "ur                      0.012418\n",
      "u                       0.010866\n",
      "from                    0.010866\n",
      "have                    0.010533\n",
      "and                     0.009979\n",
      "mobile                  0.009868\n",
      "now                     0.009757\n",
      "claim                   0.009757\n",
      "with                    0.008870\n",
      "text                    0.008427\n",
      "reply                   0.008316\n",
      "4                       0.008205\n",
      "of                      0.008094\n",
      "&                       0.007872\n",
      "stop                    0.007651\n",
      "this                    0.007540\n",
      "are                     0.007207\n",
      "                          ...   \n",
      "read                    0.000111\n",
      "park                    0.000111\n",
      "09065989180             0.000111\n",
      "help08700621170150p     0.000111\n",
      "å£150pm                 0.000111\n",
      "carlie                  0.000111\n",
      "tones!reply             0.000111\n",
      "3680                    0.000111\n",
      "secured                 0.000111\n",
      "web2mobile              0.000111\n",
      "8                       0.000111\n",
      "300                     0.000111\n",
      "30apr                   0.000111\n",
      "handset                 0.000111\n",
      "lapdancer               0.000111\n",
      "chances                 0.000111\n",
      "webeburnin              0.000111\n",
      "aå£150                  0.000111\n",
      "08712405022             0.000111\n",
      "follows                 0.000111\n",
      "4utxt                   0.000111\n",
      "dartboard               0.000111\n",
      "150ppmsg                0.000111\n",
      "you!to                  0.000111\n",
      "install                 0.000111\n",
      "see!                    0.000111\n",
      "ac/w/icmb3cktz8r7!-4    0.000111\n",
      "chat80155               0.000111\n",
      "upgrading               0.000111\n",
      "08719181259             0.000111\n",
      "dtype: float64\n"
     ]
    }
   ],
   "source": [
    "#FILTRANDO DF SPAM\n",
    "dfTreiSpam=dfTreinamento[dfTreinamento.Class=='spam']#.Treinamento\n",
    "\n",
    "dfTreiSpam=dfTreiSpam['Email'].sum(axis=None, skipna=None, level=None, numeric_only=None)\n",
    "serie13 = pd.Series(dfTreiSpam)\n",
    "PalavrasXSpam = serie13.value_counts()\n",
    "#Pa= probabilidade  de cada palavra estar em um email spam no df\n",
    "#Pa=(PalavrasXSpam+1)/(len(serie13) + len(serie_vc))\n",
    "PalavrasXSpam = PalavrasXSpam/len(palavras)\n",
    "print(PalavrasXSpam)"
   ]
  },
  {
   "cell_type": "code",
   "execution_count": 18,
   "metadata": {
    "collapsed": true
   },
   "outputs": [],
   "source": [
    "dfTreinamento['Class'].value_counts()\n",
    "Total=3610+569"
   ]
  },
  {
   "cell_type": "code",
   "execution_count": 19,
   "metadata": {
    "collapsed": false
   },
   "outputs": [],
   "source": [
    "#dfTeste['Email']"
   ]
  },
  {
   "cell_type": "code",
   "execution_count": 20,
   "metadata": {
    "collapsed": false
   },
   "outputs": [],
   "source": [
    "# def Bayes(email):\n",
    "#     var_s=1\n",
    "#     var_h=1\n",
    "#     for i in email:\n",
    "# #         print(\"palavra: \" + i)\n",
    "#         if (i in PalavrasXSpam) and (i in PalavrasXHam): \n",
    "# #             var_s=var_s*((PalavrasXSpam[i]+1)/(PMS+len(dfTotal)))\n",
    "#             var_s=var_s*((PalavrasXSpam[i]+1)/((palavras[i]/len(dfTotal))+len(dfTotal)))\n",
    "#             var_h=var_h*((PalavrasXHam[i]+1)/(PMH+len(dfTotal)))\n",
    "#         elif i in PalavrasXSpam:\n",
    "#             var_s=var_s*((PalavrasXSpam[i]+1)/(PMS+len(dfTotal)))\n",
    "#             var_h=var_h*(1/len(dfTotal))\n",
    "#         elif i in PalavrasXHam:\n",
    "#             var_s=var_s*(1/len(dfTotal))\n",
    "#             var_h=var_h*((PalavrasXHam[i]+1)/(PMH+len(dfTotal)))\n",
    "#         else: #if i not in dfTotal:\n",
    "#             var_s=var_s*(1/len(dfTotal))\n",
    "#             var_h=var_h*(1/len(dfTotal))\n",
    "#     print(\"var_s: \" + str(var_s))\n",
    "#     print(\"var_h: \" + str(var_h))\n",
    "#     if (var_s>var_h):\n",
    "#         return \"spam\"\n",
    "# #    elif (var_s==var_h):\n",
    "# #        if (PMH>PMS):\n",
    "# #            return \"ham\"\n",
    "# #        else:\n",
    "# #            return \"spam\"\n",
    "#     else:\n",
    "#         return \"ham\""
   ]
  },
  {
   "cell_type": "code",
   "execution_count": 21,
   "metadata": {
    "collapsed": false
   },
   "outputs": [],
   "source": [
    "# for i in dfTeste[\"Email\"]:\n",
    "#     dfTeste['Resultados']=Bayes(i)\n",
    "#     print(Bayes(i))\n",
    "# dfTeste['Resultados']\n",
    "\n",
    "     #print(i)\n",
    "    # dfTeste['Email']"
   ]
  },
  {
   "cell_type": "code",
   "execution_count": 22,
   "metadata": {
    "collapsed": false
   },
   "outputs": [],
   "source": [
    "# dfTeste['Resultados'].describe()"
   ]
  },
  {
   "cell_type": "code",
   "execution_count": 23,
   "metadata": {
    "collapsed": false
   },
   "outputs": [],
   "source": [
    "def Bayes(email):\n",
    "    var_s=1\n",
    "    var_h=1\n",
    "    for i in email:\n",
    "#         print(\"palavra: \" + i)\n",
    "        if (i in PalavrasXSpam) and (i in PalavrasXHam): \n",
    "#             var_s=var_s*((PalavrasXSpam[i]+1)/(PMS+len(dfTotal)))\n",
    "            var_s=var_s*((PalavrasXSpam[i]+1)/((palavras[i]/len(dfTotal))+len(dfTotal)))\n",
    "            var_h=var_h*((PalavrasXHam[i]+1)/(PMH+len(dfTotal)))\n",
    "        elif i in PalavrasXSpam:\n",
    "            var_s=var_s*((PalavrasXSpam[i]+1)/((palavras[i]/len(dfTotal))+len(dfTotal)))\n",
    "            var_h=var_h*(1/len(dfTotal))\n",
    "        elif i in PalavrasXHam:\n",
    "            var_s=var_s*(1/len(dfTotal))\n",
    "            var_h=var_h*((PalavrasXHam[i]+1)/((palavras[i]/len(dfTotal))+len(dfTotal)))\n",
    "        else: #if i not in dfTotal:\n",
    "            var_s=var_s*(1/len(dfTotal))\n",
    "            var_h=var_h*(1/len(dfTotal))\n",
    "    #print(\"var_s: \" + str(var_s))\n",
    "    #print(\"var_h: \" + str(var_h))\n",
    "    if (var_s>var_h):\n",
    "        return \"spam\"\n",
    "#    elif (var_s==var_h):\n",
    "#        if (PMH>PMS):\n",
    "#            return \"ham\"\n",
    "#        else:\n",
    "#            return \"spam\"\n",
    "    else:\n",
    "        return \"ham\""
   ]
  },
  {
   "cell_type": "code",
   "execution_count": 24,
   "metadata": {
    "collapsed": false
   },
   "outputs": [],
   "source": [
    "for i in dfTeste[\"Email\"]:\n",
    "    dfTeste['Resultados']=Bayes(i)"
   ]
  },
  {
   "cell_type": "code",
   "execution_count": 25,
   "metadata": {
    "collapsed": false
   },
   "outputs": [
    {
     "name": "stderr",
     "output_type": "stream",
     "text": [
      "C:\\Users\\rafaa\\AppData\\Local\\Continuum\\Anaconda3\\lib\\site-packages\\ipykernel\\__main__.py:2: SettingWithCopyWarning: \n",
      "A value is trying to be set on a copy of a slice from a DataFrame\n",
      "\n",
      "See the caveats in the documentation: http://pandas.pydata.org/pandas-docs/stable/indexing.html#indexing-view-versus-copy\n",
      "  from ipykernel import kernelapp as app\n"
     ]
    }
   ],
   "source": [
    "for i in range(len(dfTeste)):\n",
    "    dfTeste.iloc[i]['Resultados'] = Bayes(dfTeste.iloc[i]['Email'])\n",
    "    #print(Bayes(dfTeste.iloc[i]['Email']))"
   ]
  },
  {
   "cell_type": "code",
   "execution_count": 26,
   "metadata": {
    "collapsed": false
   },
   "outputs": [
    {
     "data": {
      "text/plain": [
       "count     1393\n",
       "unique       1\n",
       "top        ham\n",
       "freq      1393\n",
       "Name: Resultados, dtype: object"
      ]
     },
     "execution_count": 26,
     "metadata": {},
     "output_type": "execute_result"
    }
   ],
   "source": [
    "#Testando(dfTeste.Email)\n",
    "dfTeste['Resultados'].describe()\n",
    "#PalavrasXHam[str(to)]"
   ]
  },
  {
   "cell_type": "markdown",
   "metadata": {},
   "source": [
    "___\n",
    "## 4. Curva ROC"
   ]
  },
  {
   "cell_type": "code",
   "execution_count": null,
   "metadata": {
    "collapsed": false
   },
   "outputs": [],
   "source": [
    "c=0\n",
    "for i in dfTeste.Email:\n",
    "    print(i)\n",
    "    c+=1\n",
    "    if c>10:\n",
    "        break"
   ]
  },
  {
   "cell_type": "code",
   "execution_count": null,
   "metadata": {
    "collapsed": false
   },
   "outputs": [],
   "source": []
  },
  {
   "cell_type": "code",
   "execution_count": null,
   "metadata": {
    "collapsed": false
   },
   "outputs": [],
   "source": []
  },
  {
   "cell_type": "code",
   "execution_count": null,
   "metadata": {
    "collapsed": true
   },
   "outputs": [],
   "source": []
  },
  {
   "cell_type": "markdown",
   "metadata": {},
   "source": [
    "___\n",
    "## 5. Qualidade do Classificador alterando a base de treinamento"
   ]
  },
  {
   "cell_type": "code",
   "execution_count": null,
   "metadata": {
    "collapsed": true
   },
   "outputs": [],
   "source": []
  },
  {
   "cell_type": "code",
   "execution_count": null,
   "metadata": {
    "collapsed": true
   },
   "outputs": [],
   "source": []
  },
  {
   "cell_type": "code",
   "execution_count": null,
   "metadata": {
    "collapsed": true
   },
   "outputs": [],
   "source": []
  },
  {
   "cell_type": "code",
   "execution_count": null,
   "metadata": {
    "collapsed": true
   },
   "outputs": [],
   "source": []
  }
 ],
 "metadata": {
  "anaconda-cloud": {},
  "kernelspec": {
   "display_name": "Python 3",
   "language": "python",
   "name": "python3"
  },
  "language_info": {
   "codemirror_mode": {
    "name": "ipython",
    "version": 3
   },
   "file_extension": ".py",
   "mimetype": "text/x-python",
   "name": "python",
   "nbconvert_exporter": "python",
   "pygments_lexer": "ipython3",
   "version": "3.6.0"
  }
 },
 "nbformat": 4,
 "nbformat_minor": 1
}
