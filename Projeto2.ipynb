{
 "cells": [
  {
   "cell_type": "markdown",
   "metadata": {
    "collapsed": true
   },
   "source": [
    "___\n",
    "# Ciência dos Dados - PROJETO 2"
   ]
  },
  {
   "cell_type": "markdown",
   "metadata": {},
   "source": [
    "___\n",
    "## Nome 1: Lucas Leal Vale\n",
    "\n",
    "## Nome 2: Rafael Almada\n"
   ]
  },
  {
   "cell_type": "markdown",
   "metadata": {},
   "source": [
    "___\n",
    "\n",
    "## 1. Problema\n",
    "\n",
    "O Classificador Naive-Bayes, o qual se baseia no uso do teorema de Bayes, é largamente utilizado em filtros anti-spam de e-mails. O classificador permite calcular qual a probabilidade de uma mensagem ser SPAM considerando as palavras em seu conteúdo e, de forma complementar, permite calcular a probabilidade de uma mensagem ser HAM dada as palavras descritas na mensagem.\n",
    "\n",
    "Para realizar o MVP (minimum viable product) do projeto, você precisa programar uma versão do classificador que \"aprende\" o que é uma mensagem SPAM considerando uma base de treinamento e comparar o desempenho dos resultados com uma base de testes. \n"
   ]
  },
  {
   "cell_type": "markdown",
   "metadata": {},
   "source": [
    "___\n",
    "## 2. Separação da base de dados em Treinamento e Teste\n",
    "\n",
    "A base de dados deve ser separada em duas partes, aleatoriamente, considerando: \n",
    "    \n",
    "    75% dos dados para a parte Treinamento; e\n",
    "    25% dos dados para a parte Teste."
   ]
  },
  {
   "cell_type": "code",
   "execution_count": 1,
   "metadata": {
    "collapsed": true
   },
   "outputs": [],
   "source": [
    "# Importando bibliotecas\n",
    "import pandas as pd\n",
    "import os\n",
    "import numpy as np\n",
    "import math\n",
    "import matplotlib.pyplot as plt"
   ]
  },
  {
   "cell_type": "code",
   "execution_count": 2,
   "metadata": {
    "collapsed": true
   },
   "outputs": [],
   "source": [
    "#lendo o Dataframe Base\n",
    "df=pd.read_excel('spamhamV2.xlsx', sep=',')"
   ]
  },
  {
   "cell_type": "code",
   "execution_count": 3,
   "metadata": {
    "collapsed": true
   },
   "outputs": [],
   "source": [
    "# Filtrando o DataFrame\n",
    "df['Email']=df.Email.str.replace(':','')\n",
    "df['Email']=df.Email.str.replace('\"','')\n",
    "df['Email']=df.Email.str.replace(\"'\",\"\")\n",
    "df['Email']=df.Email.str.replace('(','')\n",
    "df['Email']=df.Email.str.replace(')','')\n",
    "df['Email']=df.Email.str.replace('\\n','')\n",
    "df['Email']=df.Email.str.replace(',','')\n",
    "df['Email']=df.Email.str.replace('.','')\n",
    "df['Email']=df.Email.str.lower()\n"
   ]
  },
  {
   "cell_type": "code",
   "execution_count": 4,
   "metadata": {
    "collapsed": true
   },
   "outputs": [],
   "source": [
    "#Divindo cada email em listas de palavras, para facilitar a implementação posterior no código de bayes\n",
    "df['Email']=df['Email'].str.split(pat=None,n=-1,expand=False)\n"
   ]
  },
  {
   "cell_type": "code",
   "execution_count": 5,
   "metadata": {
    "collapsed": true
   },
   "outputs": [],
   "source": [
    "#Separação da base de dados\n",
    "dfTreinamento=df.sample(n=None, frac=0.75, replace=False, weights=None, random_state=None, axis=None)\n",
    "dfTeste=df.sample(n=None, frac=0.25, replace=False, weights=None, random_state=None, axis=None)"
   ]
  },
  {
   "cell_type": "code",
   "execution_count": 6,
   "metadata": {
    "collapsed": true
   },
   "outputs": [],
   "source": [
    "#Salvando as variaveis dos dois dataframes criados em arquivos csv\n",
    "dfTreinamento.to_csv('var_Treinamento.csv')\n",
    "dfTeste.to_csv('var_Teste.csv')"
   ]
  },
  {
   "cell_type": "markdown",
   "metadata": {},
   "source": [
    "___\n",
    "## 3. Classificador Naive-Bayes"
   ]
  },
  {
   "cell_type": "code",
   "execution_count": 7,
   "metadata": {},
   "outputs": [
    {
     "data": {
      "text/plain": [
       "0.13591768365637713"
      ]
     },
     "execution_count": 7,
     "metadata": {},
     "output_type": "execute_result"
    }
   ],
   "source": [
    "#Calculando a probabilidade de ser Spam dentro do dataframe de Treinamento\n",
    "Spam=dfTreinamento[dfTreinamento.Class=='spam']\n",
    "Pspam=len(Spam)/len(dfTreinamento['Class'])\n",
    "Pspam"
   ]
  },
  {
   "cell_type": "code",
   "execution_count": 8,
   "metadata": {},
   "outputs": [
    {
     "data": {
      "text/plain": [
       "0.8640823163436229"
      ]
     },
     "execution_count": 8,
     "metadata": {},
     "output_type": "execute_result"
    }
   ],
   "source": [
    "#Calculando a probabilidade de ser Ham dentro do dataframe de Treinamento\n",
    "Ham=dfTreinamento[dfTreinamento.Class=='ham']\n",
    "Pham=1-Pspam\n",
    "Pham"
   ]
  },
  {
   "cell_type": "code",
   "execution_count": 9,
   "metadata": {
    "collapsed": true
   },
   "outputs": [],
   "source": [
    "#Calculando a frequencia de cada palavra dentro do Dataframe Treinamento\n",
    "dfTotal=dfTreinamento['Email'].sum(axis=None, skipna=None, level=None, numeric_only=None)\n",
    "serie = pd.Series(dfTotal)\n",
    "palavras = serie.value_counts()\n"
   ]
  },
  {
   "cell_type": "code",
   "execution_count": 10,
   "metadata": {
    "collapsed": true
   },
   "outputs": [],
   "source": [
    "#Calculando a probabilidade de uma palavra acontecer se a mensagem na base treinamento é considerada SPAM\n",
    "dfTreiSpam=dfTreinamento[dfTreinamento.Class=='spam']\n",
    "dfTreiSpam=dfTreiSpam['Email'].sum(axis=None, skipna=None, level=None, numeric_only=None)\n",
    "SpamSeries=pd.Series(dfTreiSpam)\n",
    "PS=SpamSeries.value_counts()\n",
    "PalavrasSpam=(PS+1)/(len(SpamSeries)+len(palavras))"
   ]
  },
  {
   "cell_type": "code",
   "execution_count": 11,
   "metadata": {
    "collapsed": true
   },
   "outputs": [],
   "source": [
    "#Calculando a probabilidade de uma palavra acontecer se a mensagem na base treinamento é considerada Ham\n",
    "dfTreiHam=dfTreinamento[dfTreinamento.Class=='ham']\n",
    "dfTreiHam=dfTreiHam['Email'].sum(axis=None, skipna=None, level=None, numeric_only=None)\n",
    "HamSeries=pd.Series(dfTreiHam)\n",
    "PH=HamSeries.value_counts()\n",
    "PalavrasHam=(PH+1)/(len(HamSeries)+len(palavras))"
   ]
  },
  {
   "cell_type": "code",
   "execution_count": 12,
   "metadata": {
    "collapsed": true
   },
   "outputs": [],
   "source": [
    "# Implementando o Teorema de Naive-Bayes\n",
    "def Bayes(email):   \n",
    "    var_s=Pspam\n",
    "    var_h=Pham\n",
    "    \n",
    "    for i in email:\n",
    "        if i in (PalavrasHam):\n",
    "            var_h*=PalavrasHam[i]\n",
    "        else:\n",
    "            var_h*=1/(len(palavras))\n",
    "    \n",
    "    for i in email:\n",
    "        if i in PalavrasSpam:\n",
    "            var_s*=PalavrasSpam[i]\n",
    "        else:\n",
    "            var_s*=1/(len(palavras))\n",
    "    \n",
    "    if var_s > var_h:\n",
    "        return(\"spam\")\n",
    "    else:\n",
    "        return(\"ham\")"
   ]
  },
  {
   "cell_type": "code",
   "execution_count": 13,
   "metadata": {
    "scrolled": true
   },
   "outputs": [
    {
     "data": {
      "text/html": [
       "<div>\n",
       "<style>\n",
       "    .dataframe thead tr:only-child th {\n",
       "        text-align: right;\n",
       "    }\n",
       "\n",
       "    .dataframe thead th {\n",
       "        text-align: left;\n",
       "    }\n",
       "\n",
       "    .dataframe tbody tr th {\n",
       "        vertical-align: top;\n",
       "    }\n",
       "</style>\n",
       "<table border=\"1\" class=\"dataframe\">\n",
       "  <thead>\n",
       "    <tr style=\"text-align: right;\">\n",
       "      <th></th>\n",
       "      <th>Email</th>\n",
       "      <th>Class</th>\n",
       "      <th>Resultados</th>\n",
       "    </tr>\n",
       "  </thead>\n",
       "  <tbody>\n",
       "    <tr>\n",
       "      <th>657</th>\n",
       "      <td>[you, will, be, in, the, place, of, that, man]</td>\n",
       "      <td>ham</td>\n",
       "      <td>ham</td>\n",
       "    </tr>\n",
       "    <tr>\n",
       "      <th>5475</th>\n",
       "      <td>[dhoni, have, luck, to, win, some, big, titles...</td>\n",
       "      <td>ham</td>\n",
       "      <td>spam</td>\n",
       "    </tr>\n",
       "    <tr>\n",
       "      <th>3812</th>\n",
       "      <td>[pls, i, wont, belive, godnot, only, jesus]</td>\n",
       "      <td>ham</td>\n",
       "      <td>ham</td>\n",
       "    </tr>\n",
       "    <tr>\n",
       "      <th>1471</th>\n",
       "      <td>[oh, u, must, have, taken, your, real, valenti...</td>\n",
       "      <td>ham</td>\n",
       "      <td>ham</td>\n",
       "    </tr>\n",
       "    <tr>\n",
       "      <th>1541</th>\n",
       "      <td>[do, u, konw, waht, is, rael, friendship, im, ...</td>\n",
       "      <td>ham</td>\n",
       "      <td>ham</td>\n",
       "    </tr>\n",
       "  </tbody>\n",
       "</table>\n",
       "</div>"
      ],
      "text/plain": [
       "                                                  Email Class Resultados\n",
       "657      [you, will, be, in, the, place, of, that, man]   ham        ham\n",
       "5475  [dhoni, have, luck, to, win, some, big, titles...   ham       spam\n",
       "3812        [pls, i, wont, belive, godnot, only, jesus]   ham        ham\n",
       "1471  [oh, u, must, have, taken, your, real, valenti...   ham        ham\n",
       "1541  [do, u, konw, waht, is, rael, friendship, im, ...   ham        ham"
      ]
     },
     "execution_count": 13,
     "metadata": {},
     "output_type": "execute_result"
    }
   ],
   "source": [
    "# Função que implementa em nosso dataframe uma coluna com os resultados do classificador\n",
    "def Test(Teste):\n",
    "    frase = Teste.Email\n",
    "    return Bayes(frase)\n",
    "\n",
    "T = dfTeste.apply(Test,axis=1)\n",
    "dfTeste[\"Resultados\"] = T\n",
    "dfTeste.head()"
   ]
  },
  {
   "cell_type": "code",
   "execution_count": 14,
   "metadata": {},
   "outputs": [
    {
     "data": {
      "text/plain": [
       "ham     1211\n",
       "spam     182\n",
       "Name: Class, dtype: int64"
      ]
     },
     "execution_count": 14,
     "metadata": {},
     "output_type": "execute_result"
    }
   ],
   "source": [
    "dfTeste['Class'].value_counts()"
   ]
  },
  {
   "cell_type": "code",
   "execution_count": 15,
   "metadata": {},
   "outputs": [
    {
     "data": {
      "text/plain": [
       "ham     1198\n",
       "spam     195\n",
       "Name: Resultados, dtype: int64"
      ]
     },
     "execution_count": 15,
     "metadata": {},
     "output_type": "execute_result"
    }
   ],
   "source": [
    "dfTeste['Resultados'].value_counts()"
   ]
  },
  {
   "cell_type": "code",
   "execution_count": 16,
   "metadata": {},
   "outputs": [
    {
     "data": {
      "text/html": [
       "<div>\n",
       "<style>\n",
       "    .dataframe thead tr:only-child th {\n",
       "        text-align: right;\n",
       "    }\n",
       "\n",
       "    .dataframe thead th {\n",
       "        text-align: left;\n",
       "    }\n",
       "\n",
       "    .dataframe tbody tr th {\n",
       "        vertical-align: top;\n",
       "    }\n",
       "</style>\n",
       "<table border=\"1\" class=\"dataframe\">\n",
       "  <thead>\n",
       "    <tr style=\"text-align: right;\">\n",
       "      <th>Resultados</th>\n",
       "      <th>ham</th>\n",
       "      <th>spam</th>\n",
       "    </tr>\n",
       "    <tr>\n",
       "      <th>Class</th>\n",
       "      <th></th>\n",
       "      <th></th>\n",
       "    </tr>\n",
       "  </thead>\n",
       "  <tbody>\n",
       "    <tr>\n",
       "      <th>ham</th>\n",
       "      <td>1173</td>\n",
       "      <td>38</td>\n",
       "    </tr>\n",
       "    <tr>\n",
       "      <th>spam</th>\n",
       "      <td>25</td>\n",
       "      <td>157</td>\n",
       "    </tr>\n",
       "  </tbody>\n",
       "</table>\n",
       "</div>"
      ],
      "text/plain": [
       "Resultados   ham  spam\n",
       "Class                 \n",
       "ham         1173    38\n",
       "spam          25   157"
      ]
     },
     "execution_count": 16,
     "metadata": {},
     "output_type": "execute_result"
    }
   ],
   "source": [
    "# Plotando tabela cruzada entre o que ja estava classificado e o que nosso classificador trouxe como resposta\n",
    "pd.crosstab(dfTeste.Class,dfTeste.Resultados)"
   ]
  },
  {
   "cell_type": "code",
   "execution_count": 17,
   "metadata": {},
   "outputs": [
    {
     "name": "stdout",
     "output_type": "stream",
     "text": [
      "Falso Positivo\n"
     ]
    },
    {
     "data": {
      "text/plain": [
       "0.031379025598678778"
      ]
     },
     "execution_count": 17,
     "metadata": {},
     "output_type": "execute_result"
    }
   ],
   "source": [
    "FalsosPosi=(pd.crosstab(dfTeste.Class,dfTeste.Resultados).spam[0])/((pd.crosstab(dfTeste.Class,dfTeste.Resultados).spam[0])+(pd.crosstab(dfTeste.Class,dfTeste.Resultados).ham[0]))\n",
    "print('Falso Positivo')\n",
    "FalsosPosi"
   ]
  },
  {
   "cell_type": "code",
   "execution_count": 18,
   "metadata": {
    "scrolled": true
   },
   "outputs": [
    {
     "name": "stdout",
     "output_type": "stream",
     "text": [
      "Positivo Verdadeiro\n"
     ]
    },
    {
     "data": {
      "text/plain": [
       "0.86263736263736268"
      ]
     },
     "execution_count": 18,
     "metadata": {},
     "output_type": "execute_result"
    }
   ],
   "source": [
    "PosiVerd=(pd.crosstab(dfTeste.Class,dfTeste.Resultados).spam[1])/(pd.crosstab(dfTeste.Class,dfTeste.Resultados).spam[1]+(pd.crosstab(dfTeste.Class,dfTeste.Resultados).ham[1]))\n",
    "print('Positivo Verdadeiro')\n",
    "PosiVerd                                                               "
   ]
  },
  {
   "cell_type": "code",
   "execution_count": 19,
   "metadata": {},
   "outputs": [
    {
     "name": "stdout",
     "output_type": "stream",
     "text": [
      "Falso Negativo\n"
     ]
    },
    {
     "data": {
      "text/plain": [
       "0.13736263736263737"
      ]
     },
     "execution_count": 19,
     "metadata": {},
     "output_type": "execute_result"
    }
   ],
   "source": [
    "FalsoNeg=(pd.crosstab(dfTeste.Class,dfTeste.Resultados).ham[1])/(pd.crosstab(dfTeste.Class,dfTeste.Resultados).ham[1]+(pd.crosstab(dfTeste.Class,dfTeste.Resultados).spam[1]))\n",
    "print('Falso Negativo')\n",
    "FalsoNeg"
   ]
  },
  {
   "cell_type": "code",
   "execution_count": 20,
   "metadata": {},
   "outputs": [
    {
     "name": "stdout",
     "output_type": "stream",
     "text": [
      "negativo verdadeiro\n"
     ]
    },
    {
     "data": {
      "text/plain": [
       "0.96862097440132122"
      ]
     },
     "execution_count": 20,
     "metadata": {},
     "output_type": "execute_result"
    }
   ],
   "source": [
    "NegVerd=(pd.crosstab(dfTeste.Class,dfTeste.Resultados).ham[0])/(pd.crosstab(dfTeste.Class,dfTeste.Resultados).spam[0]+(pd.crosstab(dfTeste.Class,dfTeste.Resultados).ham[0]))\n",
    "print('negativo verdadeiro')\n",
    "NegVerd"
   ]
  },
  {
   "cell_type": "markdown",
   "metadata": {},
   "source": [
    " Possuimos mais negativos verdadeiros do que Positivos Negativos, ou seja, o nosso classificador acertou mais quando o dado era Ham e os marcou como Ham do que quando o dado era Spam e os marcou com Spam.\n",
    " Com uma pequena diferenca entre eles de respectivamente  87.6% para positivos verdadeiros e 96.9% para negativos verdadeiros\n",
    "Apesar dessas margens o consideramos um classificador eficiente."
   ]
  },
  {
   "cell_type": "markdown",
   "metadata": {},
   "source": [
    "___\n",
    "## 4. Curva ROC"
   ]
  },
  {
   "cell_type": "code",
   "execution_count": 21,
   "metadata": {},
   "outputs": [],
   "source": [
    "# Função de Naive-Bayes adaptada para o Teorema ROC\n",
    "def Bayes2(email):   \n",
    "    var_s=Pspam\n",
    "    var_h=Pham\n",
    "    \n",
    "    for i in email:\n",
    "        if i in PalavrasHam:\n",
    "            var_h*=PalavrasHam[i]\n",
    "        else:\n",
    "            var_h*=1/(len(palavras))\n",
    "    \n",
    "    for i in email:\n",
    "        if i in PalavrasSpam:\n",
    "            var_s*=PalavrasSpam[i]\n",
    "        else:\n",
    "            var_s*=1/(len(palavras))        \n",
    "    \n",
    "    if var_s > k*(var_s+var_h):#ps/ps+ph>0.5\n",
    "        return(\"spam\")  \n",
    "    else:\n",
    "        return(\"ham\")"
   ]
  },
  {
   "cell_type": "code",
   "execution_count": 22,
   "metadata": {},
   "outputs": [
    {
     "data": {
      "text/html": [
       "<div>\n",
       "<style>\n",
       "    .dataframe thead tr:only-child th {\n",
       "        text-align: right;\n",
       "    }\n",
       "\n",
       "    .dataframe thead th {\n",
       "        text-align: left;\n",
       "    }\n",
       "\n",
       "    .dataframe tbody tr th {\n",
       "        vertical-align: top;\n",
       "    }\n",
       "</style>\n",
       "<table border=\"1\" class=\"dataframe\">\n",
       "  <thead>\n",
       "    <tr style=\"text-align: right;\">\n",
       "      <th></th>\n",
       "      <th>Email</th>\n",
       "      <th>Class</th>\n",
       "      <th>Resultados</th>\n",
       "      <th>Bayes</th>\n",
       "    </tr>\n",
       "  </thead>\n",
       "  <tbody>\n",
       "    <tr>\n",
       "      <th>657</th>\n",
       "      <td>[you, will, be, in, the, place, of, that, man]</td>\n",
       "      <td>ham</td>\n",
       "      <td>ham</td>\n",
       "      <td>ham</td>\n",
       "    </tr>\n",
       "    <tr>\n",
       "      <th>5475</th>\n",
       "      <td>[dhoni, have, luck, to, win, some, big, titles...</td>\n",
       "      <td>ham</td>\n",
       "      <td>spam</td>\n",
       "      <td>spam</td>\n",
       "    </tr>\n",
       "    <tr>\n",
       "      <th>3812</th>\n",
       "      <td>[pls, i, wont, belive, godnot, only, jesus]</td>\n",
       "      <td>ham</td>\n",
       "      <td>ham</td>\n",
       "      <td>ham</td>\n",
       "    </tr>\n",
       "    <tr>\n",
       "      <th>1471</th>\n",
       "      <td>[oh, u, must, have, taken, your, real, valenti...</td>\n",
       "      <td>ham</td>\n",
       "      <td>ham</td>\n",
       "      <td>ham</td>\n",
       "    </tr>\n",
       "    <tr>\n",
       "      <th>1541</th>\n",
       "      <td>[do, u, konw, waht, is, rael, friendship, im, ...</td>\n",
       "      <td>ham</td>\n",
       "      <td>ham</td>\n",
       "      <td>ham</td>\n",
       "    </tr>\n",
       "  </tbody>\n",
       "</table>\n",
       "</div>"
      ],
      "text/plain": [
       "                                                  Email Class Resultados Bayes\n",
       "657      [you, will, be, in, the, place, of, that, man]   ham        ham   ham\n",
       "5475  [dhoni, have, luck, to, win, some, big, titles...   ham       spam  spam\n",
       "3812        [pls, i, wont, belive, godnot, only, jesus]   ham        ham   ham\n",
       "1471  [oh, u, must, have, taken, your, real, valenti...   ham        ham   ham\n",
       "1541  [do, u, konw, waht, is, rael, friendship, im, ...   ham        ham   ham"
      ]
     },
     "execution_count": 22,
     "metadata": {},
     "output_type": "execute_result"
    }
   ],
   "source": [
    "# Função que implementa em nosso dataframe uma coluna com os resultados do classificador\n",
    "def Test2(dfTeste):\n",
    "    frase = dfTeste.Email\n",
    "    return Bayes2(frase) \n",
    "k=0.1\n",
    "T = dfTeste.apply(Test2,axis=1)\n",
    "dfTeste[\"Bayes\"] = T\n",
    "dfTeste.head()"
   ]
  },
  {
   "cell_type": "code",
   "execution_count": 23,
   "metadata": {},
   "outputs": [],
   "source": [
    "# Criação das listas de especificidade e sensibilidade, alem do coeficiente de correlação Mattheus para os plots de grafico e melhor valor para a curva ROC.\n",
    "L1=[] #especificidade\n",
    "L2=[] #sensibilidade\n",
    "phi=[] # coeficiente de correlação de Matthews\n",
    "for k in np.arange(0,1,0.01): \n",
    "    T = dfTeste.apply(Test2,axis=1)\n",
    "    dfTeste[\"Bayes\"] = T\n",
    "    crosst=pd.crosstab(dfTeste.Class,dfTeste.Bayes)\n",
    "    if hasattr( crosst,\"ham\") and hasattr(crosst,\"spam\"):\n",
    "        NegVerd=crosst.ham[\"ham\"]/(crosst.ham[\"ham\"]+ crosst.spam[\"ham\"])\n",
    "        PosiVerd=crosst.spam[\"spam\"]/(crosst.ham[\"spam\"]+ crosst.spam[\"spam\"])\n",
    "        pc1=(crosst.spam[\"spam\"]*crosst.ham[\"ham\"])-(crosst.spam[\"ham\"]*crosst.ham[\"spam\"])\n",
    "        pc2=(crosst.spam[\"spam\"]+crosst.ham[\"spam\"])*(crosst.spam[\"spam\"]+crosst.spam[\"ham\"])*(crosst.ham[\"ham\"]+crosst.ham[\"spam\"])*(crosst.ham[\"ham\"]+crosst.spam[\"ham\"])\n",
    "        L1.append(1-NegVerd)\n",
    "        L2.append(PosiVerd)\n",
    "        phi.append(pc1/math.sqrt(pc2))\n",
    "    elif hasattr(crosst,\"ham\") and not hasattr( crosst,\"spam\"):\n",
    "        NegVerd=1\n",
    "        PosiVerd=0\n",
    "        pc=0\n",
    "        L1.append(1-NegVerd)\n",
    "        L2.append(PosiVerd)\n",
    "        phi.append(pc)\n",
    "    elif hasattr( crosst,\"spam\") and not hasattr( crosst,\"ham\"):\n",
    "        NegVerd=0\n",
    "        PosiVerd=1\n",
    "        pc=0\n",
    "        L1.append(1-NegVerd)\n",
    "        L2.append(PosiVerd)\n",
    "        phi.append(pc)"
   ]
  },
  {
   "cell_type": "code",
   "execution_count": 24,
   "metadata": {},
   "outputs": [
    {
     "data": {
      "image/png": "[encoded data removed]",
      "text/plain": [
       "<matplotlib.figure.Figure at 0x22b437f66d8>"
      ]
     },
     "metadata": {},
     "output_type": "display_data"
    }
   ],
   "source": [
    "#plotando a curva ROC\n",
    "plt.plot(L1,L2)\n",
    "plt.axis([0,1,0,1])\n",
    "plt.title(\"Curva ROC\")\n",
    "plt.xlabel(\"1-Especificidade\")\n",
    "plt.ylabel(\"Sensibilidade\")\n",
    "plt.show()"
   ]
  },
  {
   "cell_type": "code",
   "execution_count": 25,
   "metadata": {},
   "outputs": [
    {
     "name": "stdout",
     "output_type": "stream",
     "text": [
      "Através do Coeficiente de Correlação de Matthews, calculado para cada ponto da curva, o melhor ponto de corte é 0.98\n"
     ]
    }
   ],
   "source": [
    "pc=phi.index(max(phi))/100\n",
    "print(\"Através do Coeficiente de Correlação de Matthews, calculado para cada ponto da curva, o melhor ponto de corte é \" +str(pc))"
   ]
  },
  {
   "cell_type": "markdown",
   "metadata": {},
   "source": [
    "A curva ROC (Receiver Operating Characteristic) nos apresenta a qualidade do nosso qualificador, baseada nos valores de Positivos Verdadeiros e nos de Negativos Verdadeiros.\n",
    "\n",
    "Quanto mais próxima de uma reta for, pior o classificador é, dado que a sensibilidade será igual à especificidade, e quanto mais próximo de uma curva perpendicular no canto superior esquerdo, mais próximo da perfeição o classificador será. Caso a curva tenda a uma curva perpendicular no canto inferior direito do gráfico, o classificador pode ser considerado uma péssima aplicação de Naive-Bayes.\n",
    "\n",
    "No nosso caso, a curva ROC ficou bem próxima do que é considerada como perfeita, se provando assim ser um classificador muito bom e, logo, muito efetivo. É claro que nunca chegará à perfeição, sempre haverão alguns erros na classificação, mas estes são erros já previstos, pois sempre haverão alguns poucos que tendem a ser Spam, quando na verdade são Ham."
   ]
  },
  {
   "cell_type": "markdown",
   "metadata": {},
   "source": [
    "___\n",
    "## 5. Qualidade do Classificador alterando a base de treinamento"
   ]
  },
  {
   "cell_type": "code",
   "execution_count": 26,
   "metadata": {},
   "outputs": [],
   "source": [
    "# Testando a qualidade do classificador altarando a base de treinamento.\n",
    "PV=[] #porcentagem de positivos verdadeiros\n",
    "NV=[] #porcentagem de negativos verdadeiros\n",
    "for i in range(500):\n",
    "    #Separação da base de dados\n",
    "    Treinamento = df.sample(n=None, frac=0.75, replace=False).reset_index()\n",
    "    Teste = df.sample(n=None, frac=0.25, replace=False).reset_index()\n",
    "    Treinamento = Treinamento.drop([\"index\"],axis = 1)\n",
    "    Teste = Teste.drop([\"index\"],axis = 1)\n",
    "    \n",
    "    #Aplicação do Naive-Bayes\n",
    "    T = Teste.apply(Test,axis=1)\n",
    "    Teste[\"Bayes\"] = T\n",
    "    \n",
    "    #salvando as porcentagens\n",
    "    crosst=pd.crosstab(Teste.Class,Teste.Bayes)\n",
    "    NegVerd=crosst.spam[\"spam\"]/(crosst.spam[\"spam\"]+crosst.spam[\"ham\"])*100\n",
    "    PosiVerd=crosst.ham[\"ham\"]/(crosst.ham[\"ham\"]+crosst.ham[\"spam\"])*100\n",
    "    PV.append(NegVerd)\n",
    "    NV.append(PosiVerd)"
   ]
  },
  {
   "cell_type": "code",
   "execution_count": 29,
   "metadata": {},
   "outputs": [
    {
     "data": {
      "image/png": "[encoded data removed]",
      "text/plain": [
       "<matplotlib.figure.Figure at 0x22b44499908>"
      ]
     },
     "metadata": {},
     "output_type": "display_data"
    }
   ],
   "source": [
    "#Plotando histogramas finais.\n",
    "fig = plt.figure(figsize=(14,4))\n",
    "plt.subplot(121)\n",
    "plt.hist(PV,bins=100,color=\"orange\")\n",
    "plt.title(\"Porcentagem de Positivos Verdadeiros\")\n",
    "\n",
    "plt.subplot(122)\n",
    "plt.hist(NV,bins=100,color='green')\n",
    "plt.title(\"Porcentagem de Negativos Verdadeiros\")\n",
    "\n",
    "plt.tight_layout()\n",
    "plt.show()"
   ]
  },
  {
   "cell_type": "code",
   "execution_count": 28,
   "metadata": {},
   "outputs": [
    {
     "name": "stdout",
     "output_type": "stream",
     "text": [
      "A média da porcentagem de resultados positivos verdadeiros é 83.0244248298\n",
      "A média da porcentagem de resultados negativos verdadeiros é 98.0036920386\n"
     ]
    }
   ],
   "source": [
    "print(\"A média da porcentagem de resultados positivos verdadeiros é \" + str(np.mean(PV)))\n",
    "print(\"A média da porcentagem de resultados negativos verdadeiros é \" + str(np.mean(NV)))"
   ]
  },
  {
   "cell_type": "markdown",
   "metadata": {},
   "source": [
    "Após rodar o classificador 500 vezes e obter os valores das porcentagens de Positivos Verdadeiros e Negativos Verdadeiros, plotamos dois histogramas, um para cada variável.\n",
    "\n",
    "Percebemos que os histogramas se aproximam de duas normais, onde ambas são simétricas, a primeira com média aproximada de 83%, sendo assim com um grande número de Positivos Verdadeiros e a segunda com média aproximada de 98%, mostrando também precisão em relação aos Negativos Verdadeiros.\n",
    "\n",
    "Uma forma de tornar o nosso código mais eficiente seria usar dicionários ao invés de dataframes equivalentes a grandes listas, pois o tempo de processamento do primeiro é bem menor dado que esse não precisa rodar todos os valores toda vez e somente o termo quando lhe é pedido."
   ]
  },
  {
   "cell_type": "code",
   "execution_count": null,
   "metadata": {
    "collapsed": true
   },
   "outputs": [],
   "source": []
  }
 ],
 "metadata": {
  "kernelspec": {
   "display_name": "Python 3",
   "language": "python",
   "name": "python3"
  },
  "language_info": {
   "codemirror_mode": {
    "name": "ipython",
    "version": 3
   },
   "file_extension": ".py",
   "mimetype": "text/x-python",
   "name": "python",
   "nbconvert_exporter": "python",
   "pygments_lexer": "ipython3",
   "version": "3.6.1"
  }
 },
 "nbformat": 4,
 "nbformat_minor": 2
}
